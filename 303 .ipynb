{
 "cells": [
  {
   "cell_type": "markdown",
   "metadata": {},
   "source": [
    "# INT303 Big Data Analytics - Lab Task"
   ]
  },
  {
   "cell_type": "markdown",
   "metadata": {},
   "source": [
    "##  R code (Due to the jupyter notebook format, the format will be different from the template, the 3rd part, data evidence and the 4th part, plotting, will be showned in the results, and the explanation will be after the results.)"
   ]
  },
  {
   "cell_type": "markdown",
   "metadata": {},
   "source": [
    "### Import needed packages"
   ]
  },
  {
   "cell_type": "code",
   "execution_count": null,
   "metadata": {},
   "outputs": [],
   "source": [
    "install.packages(\"doBy\")\n",
    "install.packages(\"ggplot2\")"
   ]
  },
  {
   "cell_type": "code",
   "execution_count": 3,
   "metadata": {},
   "outputs": [],
   "source": [
    "#Import packages and used library\n",
    "library(\"doBy\")\n",
    "library(\"ggplot2\")"
   ]
  },
  {
   "cell_type": "markdown",
   "metadata": {},
   "source": [
    "### Set all the needed functions"
   ]
  },
  {
   "cell_type": "code",
   "execution_count": 4,
   "metadata": {},
   "outputs": [],
   "source": [
    "#Set Functions\n",
    "\n",
    "siterange <- function(x){c(length(x), min(x), max(x), mean(x))}\n",
    "clen <- function(x){c(length(x))}\n",
    "datasummary <- function(x){c(quantile(x),mean(x),var(x),max(x))}"
   ]
  },
  {
   "cell_type": "markdown",
   "metadata": {},
   "source": [
    "## [1] For One Single Day "
   ]
  },
  {
   "cell_type": "markdown",
   "metadata": {},
   "source": [
    "### Read Data"
   ]
  },
  {
   "cell_type": "markdown",
   "metadata": {},
   "source": [
    "#### Please make sure your data sets are stored in the same file with this script."
   ]
  },
  {
   "cell_type": "code",
   "execution_count": 5,
   "metadata": {},
   "outputs": [
    {
     "data": {
      "text/html": [
       "'C:/Users/user1/Documents/303 lab/dds_datasets'"
      ],
      "text/latex": [
       "'C:/Users/user1/Documents/303 lab/dds\\_datasets'"
      ],
      "text/markdown": [
       "'C:/Users/user1/Documents/303 lab/dds_datasets'"
      ],
      "text/plain": [
       "[1] \"C:/Users/user1/Documents/303 lab/dds_datasets\""
      ]
     },
     "metadata": {},
     "output_type": "display_data"
    }
   ],
   "source": [
    "#Set work directory(change the working directory to your data file)\n",
    "setwd(\"C:/Users/user1/Documents/303 lab/dds_datasets\")\n",
    "getwd()\n"
   ]
  },
  {
   "cell_type": "code",
   "execution_count": 6,
   "metadata": {},
   "outputs": [
    {
     "name": "stdout",
     "output_type": "stream",
     "text": [
      "  Age Gender Impressions Clicks Signed_In\n",
      "1   0      0           3      0         0\n",
      "2   0      0           5      0         0\n",
      "3  56      1           4      0         1\n",
      "4  23      1           3      0         1\n",
      "5   0      0           6      0         0\n",
      "6  52      0           5      0         1\n",
      "'data.frame':\t455365 obs. of  5 variables:\n",
      " $ Age        : int  0 0 56 23 0 52 52 53 0 22 ...\n",
      " $ Gender     : int  0 0 1 1 0 0 1 1 0 0 ...\n",
      " $ Impressions: int  3 5 4 3 6 5 3 5 6 4 ...\n",
      " $ Clicks     : int  0 0 0 0 0 0 0 0 0 0 ...\n",
      " $ Signed_In  : int  0 0 1 1 0 1 1 1 0 1 ...\n",
      "NULL\n"
     ]
    }
   ],
   "source": [
    "#Read Data File  \n",
    "data21 <- read.csv(\"nyt21.csv\")\n",
    "\n",
    "#Print some basic information\n",
    "print(head(data21))\n",
    "print(str(data21))"
   ]
  },
  {
   "cell_type": "markdown",
   "metadata": {},
   "source": [
    "##### From this code result, the first table shows the headings of the data, which is the first six data of the whole data. The second table shows the data frame of every attributes. This is just a display of basic information in the data, and for now, we have done the data inputting."
   ]
  },
  {
   "cell_type": "markdown",
   "metadata": {},
   "source": [
    "### Clean the data that are not useful"
   ]
  },
  {
   "cell_type": "code",
   "execution_count": 7,
   "metadata": {},
   "outputs": [
    {
     "name": "stdout",
     "output_type": "stream",
     "text": [
      "[1] \"column before cleaning: 5\"\n",
      "[1] \"row before cleaning: 455365\"\n",
      "[1] \"column after cleaning: 5\"\n",
      "[1] \"row after cleaning: 248734\"\n"
     ]
    }
   ],
   "source": [
    "#Rows and columns before cleaning (just for clearly see the differences)\n",
    "print(paste0(\"column before cleaning: \", ncol(data21)))\n",
    "print(paste0(\"row before cleaning: \", nrow(data21)))\n",
    "\n",
    "#Clean Data(exclude the data that have impressions<0 and age<0)\n",
    "data21 <- subset(data21 , Impressions > 0)\n",
    "data21 <- subset(data21 , Age > 0)\n",
    "\n",
    "#Rows and columns after cleaning (just for clearly see the differences)\n",
    "print(paste0(\"column after cleaning: \", ncol(data21)))\n",
    "print(paste0(\"row after cleaning: \", nrow(data21)))"
   ]
  },
  {
   "cell_type": "markdown",
   "metadata": {},
   "source": [
    "##### Every inputted data needed to be clean and delete the useless data. In this result, it shows the difference between the row and column before and after the cleaning data, since there are too many impressions and age that are zero which are useless data. From the result, the row declined sharply, where the column does not change because it is still five attributes. For now, the data is really to be used."
   ]
  },
  {
   "cell_type": "markdown",
   "metadata": {},
   "source": [
    "### {A} Plot the distributions of number impressions and click-through-rate (CTR=# clicks/# impressions) for the 5 age categories as \"<30\", \"30-39\",\"40-49\", \"50-59\", \"60+\""
   ]
  },
  {
   "cell_type": "code",
   "execution_count": 8,
   "metadata": {},
   "outputs": [
    {
     "data": {
      "text/html": [
       "<table>\n",
       "<thead><tr><th scope=col>agecat</th><th scope=col>Clicks.mean</th><th scope=col>Impressions.mean</th></tr></thead>\n",
       "<tbody>\n",
       "\t<tr><td>(0,30]    </td><td>0.06791997</td><td>5.025013  </td></tr>\n",
       "\t<tr><td>(30,39]   </td><td>0.04848391</td><td>5.019251  </td></tr>\n",
       "\t<tr><td>(39,49]   </td><td>0.05079069</td><td>5.026870  </td></tr>\n",
       "\t<tr><td>(49,59]   </td><td>0.07444912</td><td>5.020989  </td></tr>\n",
       "\t<tr><td>(59, Inf] </td><td>0.12981898</td><td>5.029539  </td></tr>\n",
       "</tbody>\n",
       "</table>\n"
      ],
      "text/latex": [
       "\\begin{tabular}{r|lll}\n",
       " agecat & Clicks.mean & Impressions.mean\\\\\n",
       "\\hline\n",
       "\t (0,30{]}    & 0.06791997  & 5.025013   \\\\\n",
       "\t (30,39{]}   & 0.04848391  & 5.019251   \\\\\n",
       "\t (39,49{]}   & 0.05079069  & 5.026870   \\\\\n",
       "\t (49,59{]}   & 0.07444912  & 5.020989   \\\\\n",
       "\t (59, Inf{]} & 0.12981898  & 5.029539   \\\\\n",
       "\\end{tabular}\n"
      ],
      "text/markdown": [
       "\n",
       "| agecat | Clicks.mean | Impressions.mean |\n",
       "|---|---|---|\n",
       "| (0,30]     | 0.06791997 | 5.025013   |\n",
       "| (30,39]    | 0.04848391 | 5.019251   |\n",
       "| (39,49]    | 0.05079069 | 5.026870   |\n",
       "| (49,59]    | 0.07444912 | 5.020989   |\n",
       "| (59, Inf]  | 0.12981898 | 5.029539   |\n",
       "\n"
      ],
      "text/plain": [
       "  agecat    Clicks.mean Impressions.mean\n",
       "1 (0,30]    0.06791997  5.025013        \n",
       "2 (30,39]   0.04848391  5.019251        \n",
       "3 (39,49]   0.05079069  5.026870        \n",
       "4 (49,59]   0.07444912  5.020989        \n",
       "5 (59, Inf] 0.12981898  5.029539        "
      ]
     },
     "metadata": {},
     "output_type": "display_data"
    },
    {
     "name": "stdout",
     "output_type": "stream",
     "text": [
      "Summary of data grouped by age: \n",
      "\n",
      " (-Inf,0]    (0,30]   (30,39]   (39,49]   (49,59] (59, Inf] \n",
      "        0     69523     44984     52549     42069     39609 \n",
      "\n",
      " Summary of data's CTR by 5 quantiles: \n",
      "\n",
      "   Min. 1st Qu.  Median    Mean 3rd Qu.    Max. \n",
      "0.00000 0.00000 0.00000 0.01425 0.00000 1.00000 \n"
     ]
    }
   ],
   "source": [
    "#Set agecat to put data into groups by age\n",
    "\n",
    "data21$agecat <- cut(data21$Age,c(-Inf, 0, 30, 39, 49, 59, Inf))\n",
    "summaryBy(Clicks+Impressions~agecat, data =data21)\n",
    "\n",
    "cat(\"Summary of data grouped by age: \\n\\n\")\n",
    "print(summary(data21$agecat))\n",
    "\n",
    "cat(\"\\n Summary of data's CTR by 5 quantiles: \\n\\n\")\n",
    "print(summary(data21$Clicks/data21$Impressions))"
   ]
  },
  {
   "cell_type": "markdown",
   "metadata": {},
   "source": [
    "##### I have splitted the data into groups by age, the first shows the data number of each group, the mean of clicks and impressions are display in the table, the following is the CTR's five quantiles. From the result, the largest amount of users are age 0 to age 29, however, the largest clicks and impressions mean both goes to age above 60, which are quite interesting. "
   ]
  },
  {
   "cell_type": "markdown",
   "metadata": {},
   "source": [
    "### Plot the data into graph\n",
    "#### (1) Plot impression and clicks in age groups"
   ]
  },
  {
   "cell_type": "code",
   "execution_count": 19,
   "metadata": {},
   "outputs": [
    {
     "data": {
      "image/png": "[encoded data removed]",
      "text/plain": [
       "plot without title"
      ]
     },
     "metadata": {},
     "output_type": "display_data"
    },
    {
     "data": {
      "image/png": "[encoded data removed]",
      "text/plain": [
       "plot without title"
      ]
     },
     "metadata": {},
     "output_type": "display_data"
    }
   ],
   "source": [
    "#Plot the data into boxplot\n",
    "ggplot(data21, aes(x=agecat, y=Impressions, fill=agecat)) +\n",
    "geom_boxplot()\n",
    "\n",
    "ggplot(data21, aes(x=agecat, y=Clicks, fill=agecat)) +\n",
    "geom_boxplot()"
   ]
  },
  {
   "cell_type": "markdown",
   "metadata": {},
   "source": [
    "##### The two graphes shows the Impressions and Clicks grouped by age. From the plotting, the graph shows that the Impressions mean is around 5 and clicks mean goes around 0, which is a really low amount. About the impressions, it is more likely to be rating, so as the graph display, most users rate around 3 to 7, and there are some extreme rates goes above ten or even fifteen. As for the clicks, most users do not click only little amount of users clicks some times, and not a user clicks over 5 times."
   ]
  },
  {
   "cell_type": "markdown",
   "metadata": {},
   "source": [
    "#### (2) Plot CTR (Impressons > 0) in age groups"
   ]
  },
  {
   "cell_type": "code",
   "execution_count": 14,
   "metadata": {},
   "outputs": [
    {
     "data": {
      "image/png": "[encoded data removed]",
      "text/plain": [
       "plot without title"
      ]
     },
     "metadata": {},
     "output_type": "display_data"
    }
   ],
   "source": [
    "#Plot CTR into density graph with Impressions>0\n",
    "ggplot(subset(data21, Impressions>0), aes(x=Clicks/Impressions, colour=agecat)) + geom_density()\n"
   ]
  },
  {
   "cell_type": "markdown",
   "metadata": {},
   "source": [
    "#### (3) Plot CTR (Clicks > 0) in age groups"
   ]
  },
  {
   "cell_type": "code",
   "execution_count": 21,
   "metadata": {},
   "outputs": [
    {
     "data": {
      "image/png": "[encoded data removed]",
      "text/plain": [
       "plot without title"
      ]
     },
     "metadata": {},
     "output_type": "display_data"
    }
   ],
   "source": [
    "#Plot CTR into density graph with Clicks>0\n",
    "ggplot(subset(data21, Clicks>0), aes(x=Clicks/Impressions, colour=agecat)) + geom_density()"
   ]
  },
  {
   "cell_type": "markdown",
   "metadata": {},
   "source": [
    "##### These two graphes above shows the CTR by two different subset, Impressions>0 and Clicks>0 respectively. From the first graph, it demonstrats the CTR of the Impressions that are greater than 0 and every different color is an age group and, as in the graph, all age groups are in similiar density and there are only slightly differences, mostly lies in nearly 0. The second graph is the CTR of the Clicks that are greater than 0 and although the shape looks not much differect, there are differences between detail parts in every age."
   ]
  },
  {
   "cell_type": "markdown",
   "metadata": {},
   "source": [
    "### {B} Explore the data and make visual (plotting) and quantitative comparisons (table) across user demographics age<18 males versus age<18 females.\n"
   ]
  },
  {
   "cell_type": "code",
   "execution_count": 8,
   "metadata": {},
   "outputs": [],
   "source": [
    "#Create scode with value \"Male\" and \"Female\"(where gender=0 represent male and gender=1 represent female.) \n",
    "data21$scode[data21$Gender==0] <- \"Male\"\n",
    "data21$scode[data21$Gender==1] <-\"Female\"\n",
    "data21$scode <- factor(data21$scode)\n",
    "\n"
   ]
  },
  {
   "cell_type": "code",
   "execution_count": 11,
   "metadata": {},
   "outputs": [],
   "source": [
    "#Set different groups for further use\n",
    "data21$agecat1 <- cut(data21$Age,c(0, 18, Inf))\n",
    "data21$gendercat1 <- cut(data21$Gender,c( 0, 1, Inf))\n",
    "data21UnderAge18 <- subset(data21, Age<18)\n",
    "\n"
   ]
  },
  {
   "cell_type": "code",
   "execution_count": 10,
   "metadata": {},
   "outputs": [
    {
     "data": {
      "text/html": [
       "<table>\n",
       "<thead><tr><th scope=col>scode</th><th scope=col>agecat1</th><th scope=col>Clicks</th><th scope=col>Gender.clen</th></tr></thead>\n",
       "<tbody>\n",
       "\t<tr><td>Female</td><td>(0,18]</td><td>0     </td><td>6457  </td></tr>\n",
       "\t<tr><td>Female</td><td>(0,18]</td><td>1     </td><td> 923  </td></tr>\n",
       "\t<tr><td>Female</td><td>(0,18]</td><td>2     </td><td>  57  </td></tr>\n",
       "\t<tr><td>Female</td><td>(0,18]</td><td>3     </td><td>   2  </td></tr>\n",
       "\t<tr><td>Male  </td><td>(0,18]</td><td>0     </td><td>2838  </td></tr>\n",
       "\t<tr><td>Male  </td><td>(0,18]</td><td>1     </td><td> 420  </td></tr>\n",
       "\t<tr><td>Male  </td><td>(0,18]</td><td>2     </td><td>  24  </td></tr>\n",
       "</tbody>\n",
       "</table>\n"
      ],
      "text/latex": [
       "\\begin{tabular}{r|llll}\n",
       " scode & agecat1 & Clicks & Gender.clen\\\\\n",
       "\\hline\n",
       "\t Female   & (0,18{]} & 0        & 6457    \\\\\n",
       "\t Female   & (0,18{]} & 1        &  923    \\\\\n",
       "\t Female   & (0,18{]} & 2        &   57    \\\\\n",
       "\t Female   & (0,18{]} & 3        &    2    \\\\\n",
       "\t Male     & (0,18{]} & 0        & 2838    \\\\\n",
       "\t Male     & (0,18{]} & 1        &  420    \\\\\n",
       "\t Male     & (0,18{]} & 2        &   24    \\\\\n",
       "\\end{tabular}\n"
      ],
      "text/markdown": [
       "\n",
       "| scode | agecat1 | Clicks | Gender.clen |\n",
       "|---|---|---|---|\n",
       "| Female | (0,18] | 0      | 6457   |\n",
       "| Female | (0,18] | 1      |  923   |\n",
       "| Female | (0,18] | 2      |   57   |\n",
       "| Female | (0,18] | 3      |    2   |\n",
       "| Male   | (0,18] | 0      | 2838   |\n",
       "| Male   | (0,18] | 1      |  420   |\n",
       "| Male   | (0,18] | 2      |   24   |\n",
       "\n"
      ],
      "text/plain": [
       "  scode  agecat1 Clicks Gender.clen\n",
       "1 Female (0,18]  0      6457       \n",
       "2 Female (0,18]  1       923       \n",
       "3 Female (0,18]  2        57       \n",
       "4 Female (0,18]  3         2       \n",
       "5 Male   (0,18]  0      2838       \n",
       "6 Male   (0,18]  1       420       \n",
       "7 Male   (0,18]  2        24       "
      ]
     },
     "metadata": {},
     "output_type": "display_data"
    },
    {
     "data": {
      "text/html": [
       "<table>\n",
       "<thead><tr><th scope=col>scode</th><th scope=col>agecat1</th><th scope=col>Impressions</th><th scope=col>Gender.clen</th></tr></thead>\n",
       "<tbody>\n",
       "\t<tr><td>Female</td><td>(0,18]</td><td> 1    </td><td> 281  </td></tr>\n",
       "\t<tr><td>Female</td><td>(0,18]</td><td> 2    </td><td> 635  </td></tr>\n",
       "\t<tr><td>Female</td><td>(0,18]</td><td> 3    </td><td>1032  </td></tr>\n",
       "\t<tr><td>Female</td><td>(0,18]</td><td> 4    </td><td>1256  </td></tr>\n",
       "\t<tr><td>Female</td><td>(0,18]</td><td> 5    </td><td>1355  </td></tr>\n",
       "\t<tr><td>Female</td><td>(0,18]</td><td> 6    </td><td>1074  </td></tr>\n",
       "\t<tr><td>Female</td><td>(0,18]</td><td> 7    </td><td> 773  </td></tr>\n",
       "\t<tr><td>Female</td><td>(0,18]</td><td> 8    </td><td> 506  </td></tr>\n",
       "\t<tr><td>Female</td><td>(0,18]</td><td> 9    </td><td> 266  </td></tr>\n",
       "\t<tr><td>Female</td><td>(0,18]</td><td>10    </td><td> 145  </td></tr>\n",
       "\t<tr><td>Female</td><td>(0,18]</td><td>11    </td><td>  74  </td></tr>\n",
       "\t<tr><td>Female</td><td>(0,18]</td><td>12    </td><td>  27  </td></tr>\n",
       "\t<tr><td>Female</td><td>(0,18]</td><td>13    </td><td>  10  </td></tr>\n",
       "\t<tr><td>Female</td><td>(0,18]</td><td>14    </td><td>   3  </td></tr>\n",
       "\t<tr><td>Female</td><td>(0,18]</td><td>15    </td><td>   1  </td></tr>\n",
       "\t<tr><td>Female</td><td>(0,18]</td><td>18    </td><td>   1  </td></tr>\n",
       "\t<tr><td>Male  </td><td>(0,18]</td><td> 1    </td><td> 114  </td></tr>\n",
       "\t<tr><td>Male  </td><td>(0,18]</td><td> 2    </td><td> 300  </td></tr>\n",
       "\t<tr><td>Male  </td><td>(0,18]</td><td> 3    </td><td> 437  </td></tr>\n",
       "\t<tr><td>Male  </td><td>(0,18]</td><td> 4    </td><td> 567  </td></tr>\n",
       "\t<tr><td>Male  </td><td>(0,18]</td><td> 5    </td><td> 571  </td></tr>\n",
       "\t<tr><td>Male  </td><td>(0,18]</td><td> 6    </td><td> 482  </td></tr>\n",
       "\t<tr><td>Male  </td><td>(0,18]</td><td> 7    </td><td> 360  </td></tr>\n",
       "\t<tr><td>Male  </td><td>(0,18]</td><td> 8    </td><td> 239  </td></tr>\n",
       "\t<tr><td>Male  </td><td>(0,18]</td><td> 9    </td><td> 108  </td></tr>\n",
       "\t<tr><td>Male  </td><td>(0,18]</td><td>10    </td><td>  59  </td></tr>\n",
       "\t<tr><td>Male  </td><td>(0,18]</td><td>11    </td><td>  27  </td></tr>\n",
       "\t<tr><td>Male  </td><td>(0,18]</td><td>12    </td><td>  12  </td></tr>\n",
       "\t<tr><td>Male  </td><td>(0,18]</td><td>13    </td><td>   3  </td></tr>\n",
       "\t<tr><td>Male  </td><td>(0,18]</td><td>14    </td><td>   1  </td></tr>\n",
       "\t<tr><td>Male  </td><td>(0,18]</td><td>15    </td><td>   2  </td></tr>\n",
       "</tbody>\n",
       "</table>\n"
      ],
      "text/latex": [
       "\\begin{tabular}{r|llll}\n",
       " scode & agecat1 & Impressions & Gender.clen\\\\\n",
       "\\hline\n",
       "\t Female   & (0,18{]} &  1       &  281    \\\\\n",
       "\t Female   & (0,18{]} &  2       &  635    \\\\\n",
       "\t Female   & (0,18{]} &  3       & 1032    \\\\\n",
       "\t Female   & (0,18{]} &  4       & 1256    \\\\\n",
       "\t Female   & (0,18{]} &  5       & 1355    \\\\\n",
       "\t Female   & (0,18{]} &  6       & 1074    \\\\\n",
       "\t Female   & (0,18{]} &  7       &  773    \\\\\n",
       "\t Female   & (0,18{]} &  8       &  506    \\\\\n",
       "\t Female   & (0,18{]} &  9       &  266    \\\\\n",
       "\t Female   & (0,18{]} & 10       &  145    \\\\\n",
       "\t Female   & (0,18{]} & 11       &   74    \\\\\n",
       "\t Female   & (0,18{]} & 12       &   27    \\\\\n",
       "\t Female   & (0,18{]} & 13       &   10    \\\\\n",
       "\t Female   & (0,18{]} & 14       &    3    \\\\\n",
       "\t Female   & (0,18{]} & 15       &    1    \\\\\n",
       "\t Female   & (0,18{]} & 18       &    1    \\\\\n",
       "\t Male     & (0,18{]} &  1       &  114    \\\\\n",
       "\t Male     & (0,18{]} &  2       &  300    \\\\\n",
       "\t Male     & (0,18{]} &  3       &  437    \\\\\n",
       "\t Male     & (0,18{]} &  4       &  567    \\\\\n",
       "\t Male     & (0,18{]} &  5       &  571    \\\\\n",
       "\t Male     & (0,18{]} &  6       &  482    \\\\\n",
       "\t Male     & (0,18{]} &  7       &  360    \\\\\n",
       "\t Male     & (0,18{]} &  8       &  239    \\\\\n",
       "\t Male     & (0,18{]} &  9       &  108    \\\\\n",
       "\t Male     & (0,18{]} & 10       &   59    \\\\\n",
       "\t Male     & (0,18{]} & 11       &   27    \\\\\n",
       "\t Male     & (0,18{]} & 12       &   12    \\\\\n",
       "\t Male     & (0,18{]} & 13       &    3    \\\\\n",
       "\t Male     & (0,18{]} & 14       &    1    \\\\\n",
       "\t Male     & (0,18{]} & 15       &    2    \\\\\n",
       "\\end{tabular}\n"
      ],
      "text/markdown": [
       "\n",
       "| scode | agecat1 | Impressions | Gender.clen |\n",
       "|---|---|---|---|\n",
       "| Female | (0,18] |  1     |  281   |\n",
       "| Female | (0,18] |  2     |  635   |\n",
       "| Female | (0,18] |  3     | 1032   |\n",
       "| Female | (0,18] |  4     | 1256   |\n",
       "| Female | (0,18] |  5     | 1355   |\n",
       "| Female | (0,18] |  6     | 1074   |\n",
       "| Female | (0,18] |  7     |  773   |\n",
       "| Female | (0,18] |  8     |  506   |\n",
       "| Female | (0,18] |  9     |  266   |\n",
       "| Female | (0,18] | 10     |  145   |\n",
       "| Female | (0,18] | 11     |   74   |\n",
       "| Female | (0,18] | 12     |   27   |\n",
       "| Female | (0,18] | 13     |   10   |\n",
       "| Female | (0,18] | 14     |    3   |\n",
       "| Female | (0,18] | 15     |    1   |\n",
       "| Female | (0,18] | 18     |    1   |\n",
       "| Male   | (0,18] |  1     |  114   |\n",
       "| Male   | (0,18] |  2     |  300   |\n",
       "| Male   | (0,18] |  3     |  437   |\n",
       "| Male   | (0,18] |  4     |  567   |\n",
       "| Male   | (0,18] |  5     |  571   |\n",
       "| Male   | (0,18] |  6     |  482   |\n",
       "| Male   | (0,18] |  7     |  360   |\n",
       "| Male   | (0,18] |  8     |  239   |\n",
       "| Male   | (0,18] |  9     |  108   |\n",
       "| Male   | (0,18] | 10     |   59   |\n",
       "| Male   | (0,18] | 11     |   27   |\n",
       "| Male   | (0,18] | 12     |   12   |\n",
       "| Male   | (0,18] | 13     |    3   |\n",
       "| Male   | (0,18] | 14     |    1   |\n",
       "| Male   | (0,18] | 15     |    2   |\n",
       "\n"
      ],
      "text/plain": [
       "   scode  agecat1 Impressions Gender.clen\n",
       "1  Female (0,18]   1           281       \n",
       "2  Female (0,18]   2           635       \n",
       "3  Female (0,18]   3          1032       \n",
       "4  Female (0,18]   4          1256       \n",
       "5  Female (0,18]   5          1355       \n",
       "6  Female (0,18]   6          1074       \n",
       "7  Female (0,18]   7           773       \n",
       "8  Female (0,18]   8           506       \n",
       "9  Female (0,18]   9           266       \n",
       "10 Female (0,18]  10           145       \n",
       "11 Female (0,18]  11            74       \n",
       "12 Female (0,18]  12            27       \n",
       "13 Female (0,18]  13            10       \n",
       "14 Female (0,18]  14             3       \n",
       "15 Female (0,18]  15             1       \n",
       "16 Female (0,18]  18             1       \n",
       "17 Male   (0,18]   1           114       \n",
       "18 Male   (0,18]   2           300       \n",
       "19 Male   (0,18]   3           437       \n",
       "20 Male   (0,18]   4           567       \n",
       "21 Male   (0,18]   5           571       \n",
       "22 Male   (0,18]   6           482       \n",
       "23 Male   (0,18]   7           360       \n",
       "24 Male   (0,18]   8           239       \n",
       "25 Male   (0,18]   9           108       \n",
       "26 Male   (0,18]  10            59       \n",
       "27 Male   (0,18]  11            27       \n",
       "28 Male   (0,18]  12            12       \n",
       "29 Male   (0,18]  13             3       \n",
       "30 Male   (0,18]  14             1       \n",
       "31 Male   (0,18]  15             2       "
      ]
     },
     "metadata": {},
     "output_type": "display_data"
    }
   ],
   "source": [
    "#Create etable to display the difference of male and female under 18 on the Clicks and Impressions\n",
    "clen <- function(x){c(length(x))}\n",
    "etable <-summaryBy(Gender~scode+agecat1+Clicks+Impressions,data=data21UnderAge18, FUN=clen)\n",
    "summaryBy(Gender~scode+agecat1+Clicks,data=data21UnderAge18,FUN=clen)\n",
    "summaryBy(Gender~scode+agecat1+Impressions,data=data21UnderAge18,FUN=clen)\n"
   ]
  },
  {
   "cell_type": "markdown",
   "metadata": {},
   "source": [
    "##### In this part, I splitted the males and females into two categories and the two table display the clicked the advertisements and whether they have impressions to the advertisements. So from the two tables, it showed the difference of female and male under 18. In first table, there are no male who clicked on the advertisement three times, and in the second table, most users have impressions around 3 to 7 and there are no males have impressions above 15."
   ]
  },
  {
   "cell_type": "code",
   "execution_count": 12,
   "metadata": {},
   "outputs": [
    {
     "data": {
      "image/png": "[encoded data removed]",
      "text/plain": [
       "plot without title"
      ]
     },
     "metadata": {},
     "output_type": "display_data"
    },
    {
     "data": {
      "image/png": "[encoded data removed]",
      "text/plain": [
       "plot without title"
      ]
     },
     "metadata": {},
     "output_type": "display_data"
    }
   ],
   "source": [
    "#Plot the differences in Clicks into graph\n",
    "ggplot(data21UnderAge18, aes(x=Clicks,\n",
    "colour=scode)) + geom_density()\n",
    "\n",
    "#Plot the differences in Impressions into graph\n",
    "ggplot(data21UnderAge18, aes(x=Impressions,\n",
    "colour=scode)) + geom_density()"
   ]
  },
  {
   "cell_type": "markdown",
   "metadata": {},
   "source": [
    "##### The two density graph above plots the results into graph and shows the differences of Male and Female in the Clicks and Impressions."
   ]
  },
  {
   "cell_type": "markdown",
   "metadata": {},
   "source": [
    "### {C} Important Summary of the data, including CTR, Quantiles, Mean, Variance, and Max.\n"
   ]
  },
  {
   "cell_type": "code",
   "execution_count": 9,
   "metadata": {},
   "outputs": [],
   "source": [
    "data21 <- subset(data21, Clicks>0)"
   ]
  },
  {
   "cell_type": "code",
   "execution_count": 10,
   "metadata": {},
   "outputs": [],
   "source": [
    "#Split the data into subsets by age \n",
    "data0to29 <- subset(data21 , Age<30)\n",
    "\n",
    "data30to39 <- subset(data21 , Age<40)\n",
    "data30to39 <- subset(data30to39 , Age>29)\n",
    "\n",
    "data40to49 <- subset(data21 , Age<50)\n",
    "data40to49 <- subset(data40to49 , Age>39)\n",
    "\n",
    "data50to59 <- subset(data21 , Age<60)\n",
    "data50to59 <- subset(data50to59 , Age>49)\n",
    "\n",
    "data60Above <- subset(data21 , Age>59)\n"
   ]
  },
  {
   "cell_type": "code",
   "execution_count": 11,
   "metadata": {},
   "outputs": [
    {
     "data": {
      "text/plain": [
       "   Min. 1st Qu.  Median    Mean 3rd Qu.    Max. \n",
       "0.05882 0.14286 0.16667 0.20724 0.25000 1.00000 "
      ]
     },
     "metadata": {},
     "output_type": "display_data"
    },
    {
     "data": {
      "text/plain": [
       "   Min. 1st Qu.  Median    Mean 3rd Qu.    Max. \n",
       "0.07143 0.14286 0.16667 0.20263 0.25000 1.00000 "
      ]
     },
     "metadata": {},
     "output_type": "display_data"
    },
    {
     "data": {
      "text/plain": [
       "   Min. 1st Qu.  Median    Mean 3rd Qu.    Max. \n",
       "0.05882 0.14286 0.16667 0.20290 0.25000 1.00000 "
      ]
     },
     "metadata": {},
     "output_type": "display_data"
    },
    {
     "data": {
      "text/plain": [
       "   Min. 1st Qu.  Median    Mean 3rd Qu.    Max. \n",
       " 0.0625  0.1429  0.1667  0.2078  0.2500  1.0000 "
      ]
     },
     "metadata": {},
     "output_type": "display_data"
    },
    {
     "data": {
      "text/plain": [
       "   Min. 1st Qu.  Median    Mean 3rd Qu.    Max. \n",
       "0.06667 0.14286 0.16667 0.21218 0.25000 1.00000 "
      ]
     },
     "metadata": {},
     "output_type": "display_data"
    }
   ],
   "source": [
    "#Calculate the CTR for each age group\n",
    "data0to29$CTR <- data0to29$Clicks/data0to29$Impression\n",
    "summary(data0to29$CTR)\n",
    "data30to39$CTR <- data30to39$Clicks/data30to39$Impression\n",
    "summary(data30to39$CTR)\n",
    "data40to49$CTR <- data40to49$Clicks/data40to49$Impression\n",
    "summary(data40to49$CTR)\n",
    "data50to59$CTR <- data50to59$Clicks/data50to59$Impression\n",
    "summary(data50to59$CTR)\n",
    "data60Above$CTR <- data60Above$Clicks/data60Above$Impression\n",
    "summary(data60Above$CTR)"
   ]
  },
  {
   "cell_type": "markdown",
   "metadata": {},
   "source": [
    "##### The results above display important summary of the data by \"summary()\", which includes the five quantiles, mean and max. By this result, it shows the differences of CTR's 5 quantiles and mean of every age group."
   ]
  },
  {
   "cell_type": "code",
   "execution_count": 12,
   "metadata": {},
   "outputs": [
    {
     "data": {
      "text/html": [
       "<table>\n",
       "<thead><tr><th scope=col>agecat</th><th scope=col>Clicks.FUN1</th><th scope=col>Clicks.FUN2</th><th scope=col>Clicks.FUN3</th><th scope=col>Clicks.FUN4</th><th scope=col>Clicks.FUN5</th><th scope=col>Clicks.FUN6</th><th scope=col>Clicks.FUN7</th><th scope=col>Clicks.FUN8</th></tr></thead>\n",
       "<tbody>\n",
       "\t<tr><td>(0,30]    </td><td>1         </td><td>1         </td><td>1         </td><td>1         </td><td>4         </td><td>1.042614  </td><td>0.04389917</td><td>4         </td></tr>\n",
       "\t<tr><td>(30,39]   </td><td>1         </td><td>1         </td><td>1         </td><td>1         </td><td>2         </td><td>1.025870  </td><td>0.02521277</td><td>2         </td></tr>\n",
       "\t<tr><td>(39,49]   </td><td>1         </td><td>1         </td><td>1         </td><td>1         </td><td>3         </td><td>1.031697  </td><td>0.03225091</td><td>3         </td></tr>\n",
       "\t<tr><td>(49,59]   </td><td>1         </td><td>1         </td><td>1         </td><td>1         </td><td>3         </td><td>1.041570  </td><td>0.04251623</td><td>3         </td></tr>\n",
       "\t<tr><td>(59, Inf] </td><td>1         </td><td>1         </td><td>1         </td><td>1         </td><td>3         </td><td>1.063056  </td><td>0.06446816</td><td>3         </td></tr>\n",
       "</tbody>\n",
       "</table>\n"
      ],
      "text/latex": [
       "\\begin{tabular}{r|lllllllll}\n",
       " agecat & Clicks.FUN1 & Clicks.FUN2 & Clicks.FUN3 & Clicks.FUN4 & Clicks.FUN5 & Clicks.FUN6 & Clicks.FUN7 & Clicks.FUN8\\\\\n",
       "\\hline\n",
       "\t (0,30{]}    & 1           & 1           & 1           & 1           & 4           & 1.042614    & 0.04389917  & 4          \\\\\n",
       "\t (30,39{]}   & 1           & 1           & 1           & 1           & 2           & 1.025870    & 0.02521277  & 2          \\\\\n",
       "\t (39,49{]}   & 1           & 1           & 1           & 1           & 3           & 1.031697    & 0.03225091  & 3          \\\\\n",
       "\t (49,59{]}   & 1           & 1           & 1           & 1           & 3           & 1.041570    & 0.04251623  & 3          \\\\\n",
       "\t (59, Inf{]} & 1           & 1           & 1           & 1           & 3           & 1.063056    & 0.06446816  & 3          \\\\\n",
       "\\end{tabular}\n"
      ],
      "text/markdown": [
       "\n",
       "| agecat | Clicks.FUN1 | Clicks.FUN2 | Clicks.FUN3 | Clicks.FUN4 | Clicks.FUN5 | Clicks.FUN6 | Clicks.FUN7 | Clicks.FUN8 |\n",
       "|---|---|---|---|---|---|---|---|---|\n",
       "| (0,30]     | 1          | 1          | 1          | 1          | 4          | 1.042614   | 0.04389917 | 4          |\n",
       "| (30,39]    | 1          | 1          | 1          | 1          | 2          | 1.025870   | 0.02521277 | 2          |\n",
       "| (39,49]    | 1          | 1          | 1          | 1          | 3          | 1.031697   | 0.03225091 | 3          |\n",
       "| (49,59]    | 1          | 1          | 1          | 1          | 3          | 1.041570   | 0.04251623 | 3          |\n",
       "| (59, Inf]  | 1          | 1          | 1          | 1          | 3          | 1.063056   | 0.06446816 | 3          |\n",
       "\n"
      ],
      "text/plain": [
       "  agecat    Clicks.FUN1 Clicks.FUN2 Clicks.FUN3 Clicks.FUN4 Clicks.FUN5\n",
       "1 (0,30]    1           1           1           1           4          \n",
       "2 (30,39]   1           1           1           1           2          \n",
       "3 (39,49]   1           1           1           1           3          \n",
       "4 (49,59]   1           1           1           1           3          \n",
       "5 (59, Inf] 1           1           1           1           3          \n",
       "  Clicks.FUN6 Clicks.FUN7 Clicks.FUN8\n",
       "1 1.042614    0.04389917  4          \n",
       "2 1.025870    0.02521277  2          \n",
       "3 1.031697    0.03225091  3          \n",
       "4 1.041570    0.04251623  3          \n",
       "5 1.063056    0.06446816  3          "
      ]
     },
     "metadata": {},
     "output_type": "display_data"
    }
   ],
   "source": [
    "#Summary of CLicks of the whole data\n",
    "summaryBy(Clicks~agecat,data=data21, FUN = datasummary)"
   ]
  },
  {
   "cell_type": "code",
   "execution_count": 13,
   "metadata": {},
   "outputs": [
    {
     "data": {
      "text/html": [
       "<table>\n",
       "<thead><tr><th scope=col>agecat</th><th scope=col>Impressions.FUN1</th><th scope=col>Impressions.FUN2</th><th scope=col>Impressions.FUN3</th><th scope=col>Impressions.FUN4</th><th scope=col>Impressions.FUN5</th><th scope=col>Impressions.FUN6</th><th scope=col>Impressions.FUN7</th><th scope=col>Impressions.FUN8</th></tr></thead>\n",
       "<tbody>\n",
       "\t<tr><td>(0,30]   </td><td>1        </td><td>4        </td><td>6        </td><td>7        </td><td>17       </td><td>5.978582 </td><td>5.034214 </td><td>17       </td></tr>\n",
       "\t<tr><td>(30,39]  </td><td>1        </td><td>4        </td><td>6        </td><td>7        </td><td>14       </td><td>5.932267 </td><td>4.866940 </td><td>14       </td></tr>\n",
       "\t<tr><td>(39,49]  </td><td>1        </td><td>4        </td><td>6        </td><td>7        </td><td>17       </td><td>6.025512 </td><td>5.089063 </td><td>17       </td></tr>\n",
       "\t<tr><td>(49,59]  </td><td>1        </td><td>4        </td><td>6        </td><td>7        </td><td>16       </td><td>5.948786 </td><td>4.863644 </td><td>16       </td></tr>\n",
       "\t<tr><td>(59, Inf]</td><td>1        </td><td>4        </td><td>6        </td><td>7        </td><td>15       </td><td>5.896837 </td><td>4.777403 </td><td>15       </td></tr>\n",
       "</tbody>\n",
       "</table>\n"
      ],
      "text/latex": [
       "\\begin{tabular}{r|lllllllll}\n",
       " agecat & Impressions.FUN1 & Impressions.FUN2 & Impressions.FUN3 & Impressions.FUN4 & Impressions.FUN5 & Impressions.FUN6 & Impressions.FUN7 & Impressions.FUN8\\\\\n",
       "\\hline\n",
       "\t (0,30{]}    & 1           & 4           & 6           & 7           & 17          & 5.978582    & 5.034214    & 17         \\\\\n",
       "\t (30,39{]}   & 1           & 4           & 6           & 7           & 14          & 5.932267    & 4.866940    & 14         \\\\\n",
       "\t (39,49{]}   & 1           & 4           & 6           & 7           & 17          & 6.025512    & 5.089063    & 17         \\\\\n",
       "\t (49,59{]}   & 1           & 4           & 6           & 7           & 16          & 5.948786    & 4.863644    & 16         \\\\\n",
       "\t (59, Inf{]} & 1           & 4           & 6           & 7           & 15          & 5.896837    & 4.777403    & 15         \\\\\n",
       "\\end{tabular}\n"
      ],
      "text/markdown": [
       "\n",
       "| agecat | Impressions.FUN1 | Impressions.FUN2 | Impressions.FUN3 | Impressions.FUN4 | Impressions.FUN5 | Impressions.FUN6 | Impressions.FUN7 | Impressions.FUN8 |\n",
       "|---|---|---|---|---|---|---|---|---|\n",
       "| (0,30]    | 1         | 4         | 6         | 7         | 17        | 5.978582  | 5.034214  | 17        |\n",
       "| (30,39]   | 1         | 4         | 6         | 7         | 14        | 5.932267  | 4.866940  | 14        |\n",
       "| (39,49]   | 1         | 4         | 6         | 7         | 17        | 6.025512  | 5.089063  | 17        |\n",
       "| (49,59]   | 1         | 4         | 6         | 7         | 16        | 5.948786  | 4.863644  | 16        |\n",
       "| (59, Inf] | 1         | 4         | 6         | 7         | 15        | 5.896837  | 4.777403  | 15        |\n",
       "\n"
      ],
      "text/plain": [
       "  agecat    Impressions.FUN1 Impressions.FUN2 Impressions.FUN3 Impressions.FUN4\n",
       "1 (0,30]    1                4                6                7               \n",
       "2 (30,39]   1                4                6                7               \n",
       "3 (39,49]   1                4                6                7               \n",
       "4 (49,59]   1                4                6                7               \n",
       "5 (59, Inf] 1                4                6                7               \n",
       "  Impressions.FUN5 Impressions.FUN6 Impressions.FUN7 Impressions.FUN8\n",
       "1 17               5.978582         5.034214         17              \n",
       "2 14               5.932267         4.866940         14              \n",
       "3 17               6.025512         5.089063         17              \n",
       "4 16               5.948786         4.863644         16              \n",
       "5 15               5.896837         4.777403         15              "
      ]
     },
     "metadata": {},
     "output_type": "display_data"
    }
   ],
   "source": [
    "#Summary of Impressions of the whole data\n",
    "summaryBy(Impressions~agecat,data=data21, FUN = datasummary)"
   ]
  },
  {
   "cell_type": "markdown",
   "metadata": {},
   "source": [
    "##### The above metrics are the summary of Clicks and Impressions of all data, I have put all the data in the functions, so from FUN1 to FUN5 is the quantiles of the data, represent 0%, 25%, 50%, 75%, 100% respectively, and FUN6 is the mean of the data, FUN7 is the variance of data and FUN8 is the maximum of data. All data are still splitted by age group and this two attributes are the most important part of the data, that is why I chosen these two attributes."
   ]
  },
  {
   "cell_type": "markdown",
   "metadata": {},
   "source": [
    "## [2] For 10 Days"
   ]
  },
  {
   "cell_type": "markdown",
   "metadata": {},
   "source": [
    "### Read Data"
   ]
  },
  {
   "cell_type": "markdown",
   "metadata": {},
   "source": [
    "#### Please make sure your data sets are stored in the same file with this script."
   ]
  },
  {
   "cell_type": "code",
   "execution_count": 14,
   "metadata": {},
   "outputs": [
    {
     "data": {
      "text/html": [
       "'C:/Users/user1/Documents/303 lab/dds_datasets/10daysdataset'"
      ],
      "text/latex": [
       "'C:/Users/user1/Documents/303 lab/dds\\_datasets/10daysdataset'"
      ],
      "text/markdown": [
       "'C:/Users/user1/Documents/303 lab/dds_datasets/10daysdataset'"
      ],
      "text/plain": [
       "[1] \"C:/Users/user1/Documents/303 lab/dds_datasets/10daysdataset\""
      ]
     },
     "metadata": {},
     "output_type": "display_data"
    }
   ],
   "source": [
    "#Set work directory(change the working directory to your data file)\n",
    "setwd(\"C:/Users/user1/Documents/303 lab/dds_datasets/10daysdataset\")\n",
    "getwd()"
   ]
  },
  {
   "cell_type": "code",
   "execution_count": 15,
   "metadata": {},
   "outputs": [],
   "source": [
    "#Read Data File \n",
    "data21 <- read.csv(\"nyt21.csv\")\n",
    "data22 <- read.csv(\"nyt22.csv\")\n",
    "data23 <- read.csv(\"nyt23.csv\")\n",
    "data24 <- read.csv(\"nyt24.csv\")\n",
    "data25 <- read.csv(\"nyt25.csv\")\n",
    "data26 <- read.csv(\"nyt26.csv\")\n",
    "data27 <- read.csv(\"nyt27.csv\")\n",
    "data28 <- read.csv(\"nyt28.csv\")\n",
    "data29 <- read.csv(\"nyt29.csv\")\n",
    "data30 <- read.csv(\"nyt30.csv\")\n"
   ]
  },
  {
   "cell_type": "code",
   "execution_count": 16,
   "metadata": {},
   "outputs": [],
   "source": [
    "#Merge 10 days data into one data\n",
    "tendaysdata = rbind(data21,data22,data23,data24,data25,data26,data27,data28,data29,data30)\n"
   ]
  },
  {
   "cell_type": "code",
   "execution_count": 17,
   "metadata": {},
   "outputs": [
    {
     "name": "stdout",
     "output_type": "stream",
     "text": [
      "  Age Gender Impressions Clicks Signed_In\n",
      "1   0      0           3      0         0\n",
      "2   0      0           5      0         0\n",
      "3  56      1           4      0         1\n",
      "4  23      1           3      0         1\n",
      "5   0      0           6      0         0\n",
      "6  52      0           5      0         1\n",
      "'data.frame':\t4668800 obs. of  5 variables:\n",
      " $ Age        : int  0 0 56 23 0 52 52 53 0 22 ...\n",
      " $ Gender     : int  0 0 1 1 0 0 1 1 0 0 ...\n",
      " $ Impressions: int  3 5 4 3 6 5 3 5 6 4 ...\n",
      " $ Clicks     : int  0 0 0 0 0 0 0 0 0 0 ...\n",
      " $ Signed_In  : int  0 0 1 1 0 1 1 1 0 1 ...\n",
      "NULL\n"
     ]
    }
   ],
   "source": [
    "#Print some basic information\n",
    "print(head(tendaysdata))\n",
    "print(str(tendaysdata))"
   ]
  },
  {
   "cell_type": "markdown",
   "metadata": {},
   "source": [
    "### Clean the data that are not useful"
   ]
  },
  {
   "cell_type": "code",
   "execution_count": 18,
   "metadata": {},
   "outputs": [
    {
     "name": "stdout",
     "output_type": "stream",
     "text": [
      "[1] \"column before cleaning: 5\"\n",
      "[1] \"row before cleaning: 4668800\"\n",
      "[1] \"column after cleaning: 5\"\n",
      "[1] \"row after cleaning: 2550520\"\n"
     ]
    }
   ],
   "source": [
    "#Rows and columns before cleaning (just for clearly see the differences)\n",
    "print(paste0(\"column before cleaning: \", ncol(tendaysdata)))\n",
    "print(paste0(\"row before cleaning: \", nrow(tendaysdata)))\n",
    "\n",
    "#Clean Data(exclude the data that have impressions<0 and age<0)\n",
    "tendaysdata <- subset(tendaysdata , Impressions > 0)\n",
    "tendaysdata <- subset(tendaysdata , Age > 0)\n",
    "\n",
    "#Rows and columns after cleaning (just for clearly see the differences)\n",
    "print(paste0(\"column after cleaning: \", ncol(tendaysdata)))\n",
    "print(paste0(\"row after cleaning: \", nrow(tendaysdata)))\n"
   ]
  },
  {
   "cell_type": "markdown",
   "metadata": {},
   "source": [
    "### {A} Plot the distributions of number impressions and click-through-rate (CTR=# clicks/# impressions) for the 5 age categories as \"<30\", \"30-39\",\"40-49\", \"50-59\", \"60+\""
   ]
  },
  {
   "cell_type": "code",
   "execution_count": 19,
   "metadata": {},
   "outputs": [
    {
     "data": {
      "text/html": [
       "<table>\n",
       "<thead><tr><th scope=col>agecat</th><th scope=col>Clicks.mean</th><th scope=col>Impressions.mean</th></tr></thead>\n",
       "<tbody>\n",
       "\t<tr><td>(0,30]    </td><td>0.06850694</td><td>5.034035  </td></tr>\n",
       "\t<tr><td>(30,39]   </td><td>0.04975922</td><td>5.028525  </td></tr>\n",
       "\t<tr><td>(39,49]   </td><td>0.05062459</td><td>5.025758  </td></tr>\n",
       "\t<tr><td>(49,59]   </td><td>0.07138040</td><td>5.032028  </td></tr>\n",
       "\t<tr><td>(59, Inf] </td><td>0.12974736</td><td>5.037235  </td></tr>\n",
       "</tbody>\n",
       "</table>\n"
      ],
      "text/latex": [
       "\\begin{tabular}{r|lll}\n",
       " agecat & Clicks.mean & Impressions.mean\\\\\n",
       "\\hline\n",
       "\t (0,30{]}    & 0.06850694  & 5.034035   \\\\\n",
       "\t (30,39{]}   & 0.04975922  & 5.028525   \\\\\n",
       "\t (39,49{]}   & 0.05062459  & 5.025758   \\\\\n",
       "\t (49,59{]}   & 0.07138040  & 5.032028   \\\\\n",
       "\t (59, Inf{]} & 0.12974736  & 5.037235   \\\\\n",
       "\\end{tabular}\n"
      ],
      "text/markdown": [
       "\n",
       "| agecat | Clicks.mean | Impressions.mean |\n",
       "|---|---|---|\n",
       "| (0,30]     | 0.06850694 | 5.034035   |\n",
       "| (30,39]    | 0.04975922 | 5.028525   |\n",
       "| (39,49]    | 0.05062459 | 5.025758   |\n",
       "| (49,59]    | 0.07138040 | 5.032028   |\n",
       "| (59, Inf]  | 0.12974736 | 5.037235   |\n",
       "\n"
      ],
      "text/plain": [
       "  agecat    Clicks.mean Impressions.mean\n",
       "1 (0,30]    0.06850694  5.034035        \n",
       "2 (30,39]   0.04975922  5.028525        \n",
       "3 (39,49]   0.05062459  5.025758        \n",
       "4 (49,59]   0.07138040  5.032028        \n",
       "5 (59, Inf] 0.12974736  5.037235        "
      ]
     },
     "metadata": {},
     "output_type": "display_data"
    },
    {
     "name": "stdout",
     "output_type": "stream",
     "text": [
      "Summary of data grouped by age: \n",
      "\n",
      " (-Inf,0]    (0,30]   (30,39]   (39,49]   (49,59] (59, Inf] \n",
      "        0    713227    459955    536992    432962    407384 \n",
      "\n",
      " Summary of data's CTR by 5 quantiles: \n",
      "\n",
      "   Min. 1st Qu.  Median    Mean 3rd Qu.    Max. \n",
      "0.00000 0.00000 0.00000 0.01424 0.00000 1.00000 \n"
     ]
    }
   ],
   "source": [
    "#Set agecat to put data into groups by age\n",
    "tendaysdata$agecat <- cut(tendaysdata$Age,c(-Inf, 0, 30, 39, 49, 59, Inf))\n",
    "summaryBy(Clicks+Impressions~agecat, data = tendaysdata)\n",
    "\n",
    "cat(\"Summary of data grouped by age: \\n\\n\")\n",
    "print(summary(tendaysdata$agecat))\n",
    "\n",
    "cat(\"\\n Summary of data's CTR by 5 quantiles: \\n\\n\")\n",
    "print(summary(tendaysdata$Clicks/tendaysdata$Impressions))\n"
   ]
  },
  {
   "cell_type": "markdown",
   "metadata": {},
   "source": [
    "### Plot the data into graph\n",
    "#### (1) Plot impression and clicks in age groups"
   ]
  },
  {
   "cell_type": "code",
   "execution_count": 16,
   "metadata": {},
   "outputs": [
    {
     "data": {
      "image/png": "[encoded data removed]",
      "text/plain": [
       "plot without title"
      ]
     },
     "metadata": {},
     "output_type": "display_data"
    },
    {
     "data": {
      "image/png": "[encoded data removed]",
      "text/plain": [
       "plot without title"
      ]
     },
     "metadata": {},
     "output_type": "display_data"
    }
   ],
   "source": [
    "#Plot the data into boxplot\n",
    "ggplot(tendaysdata, aes(x=agecat, y=Impressions, fill=agecat)) +\n",
    "geom_boxplot()\n",
    "ggplot(tendaysdata, aes(x=agecat, y=Clicks, fill=agecat)) +\n",
    "geom_boxplot()"
   ]
  },
  {
   "cell_type": "markdown",
   "metadata": {},
   "source": [
    "#### (2)Plot CTR (Impressons > 0) in age groups"
   ]
  },
  {
   "cell_type": "code",
   "execution_count": 22,
   "metadata": {},
   "outputs": [
    {
     "data": {
      "image/png": "[encoded data removed]",
      "text/plain": [
       "plot without title"
      ]
     },
     "metadata": {},
     "output_type": "display_data"
    }
   ],
   "source": [
    "ggplot(subset(tendaysdata, Impressions>0), aes(x=Clicks/Impressions, colour=agecat)) + geom_density()\n"
   ]
  },
  {
   "cell_type": "markdown",
   "metadata": {},
   "source": [
    "#### (3)Plot CTR (Clicks > 0) in age groups"
   ]
  },
  {
   "cell_type": "code",
   "execution_count": 23,
   "metadata": {},
   "outputs": [
    {
     "data": {
      "image/png": "[encoded data removed]",
      "text/plain": [
       "plot without title"
      ]
     },
     "metadata": {},
     "output_type": "display_data"
    }
   ],
   "source": [
    "ggplot(subset(tendaysdata, Clicks>0), aes(x=Clicks/Impressions, colour=agecat)) + geom_density()\n"
   ]
  },
  {
   "cell_type": "markdown",
   "metadata": {},
   "source": [
    "### {B} Explore the data and make visual (plotting) and quantitative comparisons (table) across user demographics age<18 males versus age<18 females."
   ]
  },
  {
   "cell_type": "code",
   "execution_count": 25,
   "metadata": {},
   "outputs": [],
   "source": [
    "#Create scode with value \"Male\" and \"Female\"(where gender=0 represent male and gender=1 represent female.) \n",
    "tendaysdata$scode[tendaysdata$Gender==0] <- \"Male\"\n",
    "tendaysdata$scode[tendaysdata$Gender==1] <-\"Female\"\n",
    "tendaysdata$scode <- factor(tendaysdata$scode)"
   ]
  },
  {
   "cell_type": "code",
   "execution_count": 26,
   "metadata": {},
   "outputs": [],
   "source": [
    "#Set different groups for further use\n",
    "tendaysdata$agecat1 <- cut(tendaysdata$Age,c(0, 18, Inf))\n",
    "tendaysdata$gendercat1 <- cut(tendaysdata$Age,c( 0, 1, Inf))\n",
    "tendaysdataUnderAge18 <- subset(tendaysdata, Age<18)\n"
   ]
  },
  {
   "cell_type": "code",
   "execution_count": 27,
   "metadata": {},
   "outputs": [
    {
     "data": {
      "text/html": [
       "<table>\n",
       "<thead><tr><th scope=col>scode</th><th scope=col>agecat1</th><th scope=col>Clicks</th><th scope=col>Gender.clen</th></tr></thead>\n",
       "<tbody>\n",
       "\t<tr><td>Female</td><td>(0,18]</td><td>1     </td><td>9714  </td></tr>\n",
       "\t<tr><td>Female</td><td>(0,18]</td><td>2     </td><td> 709  </td></tr>\n",
       "\t<tr><td>Female</td><td>(0,18]</td><td>3     </td><td>  37  </td></tr>\n",
       "\t<tr><td>Female</td><td>(0,18]</td><td>4     </td><td>   3  </td></tr>\n",
       "\t<tr><td>Male  </td><td>(0,18]</td><td>1     </td><td>4589  </td></tr>\n",
       "\t<tr><td>Male  </td><td>(0,18]</td><td>2     </td><td> 327  </td></tr>\n",
       "\t<tr><td>Male  </td><td>(0,18]</td><td>3     </td><td>  17  </td></tr>\n",
       "</tbody>\n",
       "</table>\n"
      ],
      "text/latex": [
       "\\begin{tabular}{r|llll}\n",
       " scode & agecat1 & Clicks & Gender.clen\\\\\n",
       "\\hline\n",
       "\t Female   & (0,18{]} & 1        & 9714    \\\\\n",
       "\t Female   & (0,18{]} & 2        &  709    \\\\\n",
       "\t Female   & (0,18{]} & 3        &   37    \\\\\n",
       "\t Female   & (0,18{]} & 4        &    3    \\\\\n",
       "\t Male     & (0,18{]} & 1        & 4589    \\\\\n",
       "\t Male     & (0,18{]} & 2        &  327    \\\\\n",
       "\t Male     & (0,18{]} & 3        &   17    \\\\\n",
       "\\end{tabular}\n"
      ],
      "text/markdown": [
       "\n",
       "| scode | agecat1 | Clicks | Gender.clen |\n",
       "|---|---|---|---|\n",
       "| Female | (0,18] | 1      | 9714   |\n",
       "| Female | (0,18] | 2      |  709   |\n",
       "| Female | (0,18] | 3      |   37   |\n",
       "| Female | (0,18] | 4      |    3   |\n",
       "| Male   | (0,18] | 1      | 4589   |\n",
       "| Male   | (0,18] | 2      |  327   |\n",
       "| Male   | (0,18] | 3      |   17   |\n",
       "\n"
      ],
      "text/plain": [
       "  scode  agecat1 Clicks Gender.clen\n",
       "1 Female (0,18]  1      9714       \n",
       "2 Female (0,18]  2       709       \n",
       "3 Female (0,18]  3        37       \n",
       "4 Female (0,18]  4         3       \n",
       "5 Male   (0,18]  1      4589       \n",
       "6 Male   (0,18]  2       327       \n",
       "7 Male   (0,18]  3        17       "
      ]
     },
     "metadata": {},
     "output_type": "display_data"
    },
    {
     "data": {
      "text/html": [
       "<table>\n",
       "<thead><tr><th scope=col>scode</th><th scope=col>agecat1</th><th scope=col>Impressions</th><th scope=col>Gender.clen</th></tr></thead>\n",
       "<tbody>\n",
       "\t<tr><td>Female</td><td>(0,18]</td><td> 1    </td><td>  66  </td></tr>\n",
       "\t<tr><td>Female</td><td>(0,18]</td><td> 2    </td><td> 353  </td></tr>\n",
       "\t<tr><td>Female</td><td>(0,18]</td><td> 3    </td><td> 922  </td></tr>\n",
       "\t<tr><td>Female</td><td>(0,18]</td><td> 4    </td><td>1530  </td></tr>\n",
       "\t<tr><td>Female</td><td>(0,18]</td><td> 5    </td><td>1925  </td></tr>\n",
       "\t<tr><td>Female</td><td>(0,18]</td><td> 6    </td><td>1770  </td></tr>\n",
       "\t<tr><td>Female</td><td>(0,18]</td><td> 7    </td><td>1523  </td></tr>\n",
       "\t<tr><td>Female</td><td>(0,18]</td><td> 8    </td><td>1077  </td></tr>\n",
       "\t<tr><td>Female</td><td>(0,18]</td><td> 9    </td><td> 666  </td></tr>\n",
       "\t<tr><td>Female</td><td>(0,18]</td><td>10    </td><td> 330  </td></tr>\n",
       "\t<tr><td>Female</td><td>(0,18]</td><td>11    </td><td> 181  </td></tr>\n",
       "\t<tr><td>Female</td><td>(0,18]</td><td>12    </td><td>  70  </td></tr>\n",
       "\t<tr><td>Female</td><td>(0,18]</td><td>13    </td><td>  32  </td></tr>\n",
       "\t<tr><td>Female</td><td>(0,18]</td><td>14    </td><td>  13  </td></tr>\n",
       "\t<tr><td>Female</td><td>(0,18]</td><td>15    </td><td>   4  </td></tr>\n",
       "\t<tr><td>Female</td><td>(0,18]</td><td>17    </td><td>   1  </td></tr>\n",
       "\t<tr><td>Male  </td><td>(0,18]</td><td> 1    </td><td>  40  </td></tr>\n",
       "\t<tr><td>Male  </td><td>(0,18]</td><td> 2    </td><td> 178  </td></tr>\n",
       "\t<tr><td>Male  </td><td>(0,18]</td><td> 3    </td><td> 427  </td></tr>\n",
       "\t<tr><td>Male  </td><td>(0,18]</td><td> 4    </td><td> 707  </td></tr>\n",
       "\t<tr><td>Male  </td><td>(0,18]</td><td> 5    </td><td> 862  </td></tr>\n",
       "\t<tr><td>Male  </td><td>(0,18]</td><td> 6    </td><td> 899  </td></tr>\n",
       "\t<tr><td>Male  </td><td>(0,18]</td><td> 7    </td><td> 713  </td></tr>\n",
       "\t<tr><td>Male  </td><td>(0,18]</td><td> 8    </td><td> 498  </td></tr>\n",
       "\t<tr><td>Male  </td><td>(0,18]</td><td> 9    </td><td> 271  </td></tr>\n",
       "\t<tr><td>Male  </td><td>(0,18]</td><td>10    </td><td> 182  </td></tr>\n",
       "\t<tr><td>Male  </td><td>(0,18]</td><td>11    </td><td>  94  </td></tr>\n",
       "\t<tr><td>Male  </td><td>(0,18]</td><td>12    </td><td>  34  </td></tr>\n",
       "\t<tr><td>Male  </td><td>(0,18]</td><td>13    </td><td>  16  </td></tr>\n",
       "\t<tr><td>Male  </td><td>(0,18]</td><td>14    </td><td>   3  </td></tr>\n",
       "\t<tr><td>Male  </td><td>(0,18]</td><td>15    </td><td>   6  </td></tr>\n",
       "\t<tr><td>Male  </td><td>(0,18]</td><td>16    </td><td>   1  </td></tr>\n",
       "\t<tr><td>Male  </td><td>(0,18]</td><td>17    </td><td>   2  </td></tr>\n",
       "</tbody>\n",
       "</table>\n"
      ],
      "text/latex": [
       "\\begin{tabular}{r|llll}\n",
       " scode & agecat1 & Impressions & Gender.clen\\\\\n",
       "\\hline\n",
       "\t Female   & (0,18{]} &  1       &   66    \\\\\n",
       "\t Female   & (0,18{]} &  2       &  353    \\\\\n",
       "\t Female   & (0,18{]} &  3       &  922    \\\\\n",
       "\t Female   & (0,18{]} &  4       & 1530    \\\\\n",
       "\t Female   & (0,18{]} &  5       & 1925    \\\\\n",
       "\t Female   & (0,18{]} &  6       & 1770    \\\\\n",
       "\t Female   & (0,18{]} &  7       & 1523    \\\\\n",
       "\t Female   & (0,18{]} &  8       & 1077    \\\\\n",
       "\t Female   & (0,18{]} &  9       &  666    \\\\\n",
       "\t Female   & (0,18{]} & 10       &  330    \\\\\n",
       "\t Female   & (0,18{]} & 11       &  181    \\\\\n",
       "\t Female   & (0,18{]} & 12       &   70    \\\\\n",
       "\t Female   & (0,18{]} & 13       &   32    \\\\\n",
       "\t Female   & (0,18{]} & 14       &   13    \\\\\n",
       "\t Female   & (0,18{]} & 15       &    4    \\\\\n",
       "\t Female   & (0,18{]} & 17       &    1    \\\\\n",
       "\t Male     & (0,18{]} &  1       &   40    \\\\\n",
       "\t Male     & (0,18{]} &  2       &  178    \\\\\n",
       "\t Male     & (0,18{]} &  3       &  427    \\\\\n",
       "\t Male     & (0,18{]} &  4       &  707    \\\\\n",
       "\t Male     & (0,18{]} &  5       &  862    \\\\\n",
       "\t Male     & (0,18{]} &  6       &  899    \\\\\n",
       "\t Male     & (0,18{]} &  7       &  713    \\\\\n",
       "\t Male     & (0,18{]} &  8       &  498    \\\\\n",
       "\t Male     & (0,18{]} &  9       &  271    \\\\\n",
       "\t Male     & (0,18{]} & 10       &  182    \\\\\n",
       "\t Male     & (0,18{]} & 11       &   94    \\\\\n",
       "\t Male     & (0,18{]} & 12       &   34    \\\\\n",
       "\t Male     & (0,18{]} & 13       &   16    \\\\\n",
       "\t Male     & (0,18{]} & 14       &    3    \\\\\n",
       "\t Male     & (0,18{]} & 15       &    6    \\\\\n",
       "\t Male     & (0,18{]} & 16       &    1    \\\\\n",
       "\t Male     & (0,18{]} & 17       &    2    \\\\\n",
       "\\end{tabular}\n"
      ],
      "text/markdown": [
       "\n",
       "| scode | agecat1 | Impressions | Gender.clen |\n",
       "|---|---|---|---|\n",
       "| Female | (0,18] |  1     |   66   |\n",
       "| Female | (0,18] |  2     |  353   |\n",
       "| Female | (0,18] |  3     |  922   |\n",
       "| Female | (0,18] |  4     | 1530   |\n",
       "| Female | (0,18] |  5     | 1925   |\n",
       "| Female | (0,18] |  6     | 1770   |\n",
       "| Female | (0,18] |  7     | 1523   |\n",
       "| Female | (0,18] |  8     | 1077   |\n",
       "| Female | (0,18] |  9     |  666   |\n",
       "| Female | (0,18] | 10     |  330   |\n",
       "| Female | (0,18] | 11     |  181   |\n",
       "| Female | (0,18] | 12     |   70   |\n",
       "| Female | (0,18] | 13     |   32   |\n",
       "| Female | (0,18] | 14     |   13   |\n",
       "| Female | (0,18] | 15     |    4   |\n",
       "| Female | (0,18] | 17     |    1   |\n",
       "| Male   | (0,18] |  1     |   40   |\n",
       "| Male   | (0,18] |  2     |  178   |\n",
       "| Male   | (0,18] |  3     |  427   |\n",
       "| Male   | (0,18] |  4     |  707   |\n",
       "| Male   | (0,18] |  5     |  862   |\n",
       "| Male   | (0,18] |  6     |  899   |\n",
       "| Male   | (0,18] |  7     |  713   |\n",
       "| Male   | (0,18] |  8     |  498   |\n",
       "| Male   | (0,18] |  9     |  271   |\n",
       "| Male   | (0,18] | 10     |  182   |\n",
       "| Male   | (0,18] | 11     |   94   |\n",
       "| Male   | (0,18] | 12     |   34   |\n",
       "| Male   | (0,18] | 13     |   16   |\n",
       "| Male   | (0,18] | 14     |    3   |\n",
       "| Male   | (0,18] | 15     |    6   |\n",
       "| Male   | (0,18] | 16     |    1   |\n",
       "| Male   | (0,18] | 17     |    2   |\n",
       "\n"
      ],
      "text/plain": [
       "   scode  agecat1 Impressions Gender.clen\n",
       "1  Female (0,18]   1            66       \n",
       "2  Female (0,18]   2           353       \n",
       "3  Female (0,18]   3           922       \n",
       "4  Female (0,18]   4          1530       \n",
       "5  Female (0,18]   5          1925       \n",
       "6  Female (0,18]   6          1770       \n",
       "7  Female (0,18]   7          1523       \n",
       "8  Female (0,18]   8          1077       \n",
       "9  Female (0,18]   9           666       \n",
       "10 Female (0,18]  10           330       \n",
       "11 Female (0,18]  11           181       \n",
       "12 Female (0,18]  12            70       \n",
       "13 Female (0,18]  13            32       \n",
       "14 Female (0,18]  14            13       \n",
       "15 Female (0,18]  15             4       \n",
       "16 Female (0,18]  17             1       \n",
       "17 Male   (0,18]   1            40       \n",
       "18 Male   (0,18]   2           178       \n",
       "19 Male   (0,18]   3           427       \n",
       "20 Male   (0,18]   4           707       \n",
       "21 Male   (0,18]   5           862       \n",
       "22 Male   (0,18]   6           899       \n",
       "23 Male   (0,18]   7           713       \n",
       "24 Male   (0,18]   8           498       \n",
       "25 Male   (0,18]   9           271       \n",
       "26 Male   (0,18]  10           182       \n",
       "27 Male   (0,18]  11            94       \n",
       "28 Male   (0,18]  12            34       \n",
       "29 Male   (0,18]  13            16       \n",
       "30 Male   (0,18]  14             3       \n",
       "31 Male   (0,18]  15             6       \n",
       "32 Male   (0,18]  16             1       \n",
       "33 Male   (0,18]  17             2       "
      ]
     },
     "metadata": {},
     "output_type": "display_data"
    }
   ],
   "source": [
    "#Create etable to display the difference of male and female under 18 on the Clicks and Impressions\n",
    "clen <- function(x){c(length(x))}\n",
    "etable <-summaryBy(Gender~scode+agecat1+Clicks+Impressions,data=tendaysdataUnderAge18, FUN=clen)\n",
    "summaryBy(Gender~scode+agecat1+Clicks,data=tendaysdataUnderAge18,FUN=clen)\n",
    "summaryBy(Gender~scode+agecat1+Impressions,data=tendaysdataUnderAge18,FUN=clen)\n"
   ]
  },
  {
   "cell_type": "code",
   "execution_count": 28,
   "metadata": {},
   "outputs": [
    {
     "data": {
      "image/png": "[encoded data removed]",
      "text/plain": [
       "plot without title"
      ]
     },
     "metadata": {},
     "output_type": "display_data"
    },
    {
     "data": {
      "image/png": "[encoded data removed]",
      "text/plain": [
       "plot without title"
      ]
     },
     "metadata": {},
     "output_type": "display_data"
    }
   ],
   "source": [
    "#Plot the differences in Clicks into graph\n",
    "ggplot(tendaysdataUnderAge18, aes(x=Clicks,\n",
    "colour=scode)) + geom_density()\n",
    "\n",
    "#Plot the differences in Impressions into graph\n",
    "ggplot(tendaysdataUnderAge18, aes(x=Impressions,\n",
    "colour=scode)) + geom_density()"
   ]
  },
  {
   "cell_type": "markdown",
   "metadata": {},
   "source": [
    "### {C} Important Summary of the data, including CTR, Quantiles, Mean, Variance, and Max."
   ]
  },
  {
   "cell_type": "code",
   "execution_count": 20,
   "metadata": {},
   "outputs": [],
   "source": [
    "tendaysdata<- subset(tendaysdata, Clicks>0)\n"
   ]
  },
  {
   "cell_type": "code",
   "execution_count": 21,
   "metadata": {},
   "outputs": [],
   "source": [
    "#Split the data into five subsets by age \n",
    "data0to29 <- subset(tendaysdata , Age<30)\n",
    "\n",
    "data30to39 <- subset(tendaysdata , Age<40)\n",
    "data30to39 <- subset(data30to39 , Age>29)\n",
    "\n",
    "data40to49 <- subset(tendaysdata , Age<50)\n",
    "data40to49 <- subset(data40to49 , Age>39)\n",
    "\n",
    "data50to59 <- subset(tendaysdata , Age<60)\n",
    "data50to59 <- subset(data50to59 , Age>49)\n",
    "\n",
    "data60Above <- subset(tendaysdata , Age>59)\n"
   ]
  },
  {
   "cell_type": "code",
   "execution_count": 22,
   "metadata": {},
   "outputs": [
    {
     "data": {
      "text/plain": [
       "   Min. 1st Qu.  Median    Mean 3rd Qu.    Max. \n",
       "0.05882 0.14286 0.16667 0.20756 0.25000 1.00000 "
      ]
     },
     "metadata": {},
     "output_type": "display_data"
    },
    {
     "data": {
      "text/plain": [
       "   Min. 1st Qu.  Median    Mean 3rd Qu.    Max. \n",
       "0.05882 0.14286 0.16667 0.20238 0.25000 1.00000 "
      ]
     },
     "metadata": {},
     "output_type": "display_data"
    },
    {
     "data": {
      "text/plain": [
       "   Min. 1st Qu.  Median    Mean 3rd Qu.    Max. \n",
       "0.05263 0.14286 0.16667 0.20411 0.25000 1.00000 "
      ]
     },
     "metadata": {},
     "output_type": "display_data"
    },
    {
     "data": {
      "text/plain": [
       "   Min. 1st Qu.  Median    Mean 3rd Qu.    Max. \n",
       "0.05882 0.14286 0.16667 0.20756 0.25000 1.00000 "
      ]
     },
     "metadata": {},
     "output_type": "display_data"
    },
    {
     "data": {
      "text/plain": [
       "   Min. 1st Qu.  Median    Mean 3rd Qu.    Max. \n",
       " 0.0625  0.1429  0.1818  0.2129  0.2500  1.0000 "
      ]
     },
     "metadata": {},
     "output_type": "display_data"
    }
   ],
   "source": [
    "#Calculate the CTR for each age\n",
    "data0to29$CTR <- data0to29$Clicks/data0to29$Impression\n",
    "summary(data0to29$CTR)\n",
    "data30to39$CTR <- data30to39$Clicks/data30to39$Impression\n",
    "summary(data30to39$CTR)\n",
    "data40to49$CTR <- data40to49$Clicks/data40to49$Impression\n",
    "summary(data40to49$CTR)\n",
    "data50to59$CTR <- data50to59$Clicks/data50to59$Impression\n",
    "summary(data0to29$CTR)\n",
    "data60Above$CTR <- data60Above$Clicks/data60Above$Impression\n",
    "summary(data60Above$CTR)"
   ]
  },
  {
   "cell_type": "code",
   "execution_count": 23,
   "metadata": {},
   "outputs": [
    {
     "data": {
      "text/html": [
       "<table>\n",
       "<thead><tr><th scope=col>agecat</th><th scope=col>Clicks.FUN1</th><th scope=col>Clicks.FUN2</th><th scope=col>Clicks.FUN3</th><th scope=col>Clicks.FUN4</th><th scope=col>Clicks.FUN5</th><th scope=col>Clicks.FUN6</th><th scope=col>Clicks.FUN7</th><th scope=col>Clicks.FUN8</th></tr></thead>\n",
       "<tbody>\n",
       "\t<tr><td>(0,30]    </td><td>1         </td><td>1         </td><td>1         </td><td>1         </td><td>4         </td><td>1.044440  </td><td>0.04601460</td><td>4         </td></tr>\n",
       "\t<tr><td>(30,39]   </td><td>1         </td><td>1         </td><td>1         </td><td>1         </td><td>3         </td><td>1.023981  </td><td>0.02403339</td><td>3         </td></tr>\n",
       "\t<tr><td>(39,49]   </td><td>1         </td><td>1         </td><td>1         </td><td>1         </td><td>4         </td><td>1.025772  </td><td>0.02631591</td><td>4         </td></tr>\n",
       "\t<tr><td>(49,59]   </td><td>1         </td><td>1         </td><td>1         </td><td>1         </td><td>3         </td><td>1.041484  </td><td>0.04205618</td><td>3         </td></tr>\n",
       "\t<tr><td>(59, Inf] </td><td>1         </td><td>1         </td><td>1         </td><td>1         </td><td>4         </td><td>1.067452  </td><td>0.06851748</td><td>4         </td></tr>\n",
       "</tbody>\n",
       "</table>\n"
      ],
      "text/latex": [
       "\\begin{tabular}{r|lllllllll}\n",
       " agecat & Clicks.FUN1 & Clicks.FUN2 & Clicks.FUN3 & Clicks.FUN4 & Clicks.FUN5 & Clicks.FUN6 & Clicks.FUN7 & Clicks.FUN8\\\\\n",
       "\\hline\n",
       "\t (0,30{]}    & 1           & 1           & 1           & 1           & 4           & 1.044440    & 0.04601460  & 4          \\\\\n",
       "\t (30,39{]}   & 1           & 1           & 1           & 1           & 3           & 1.023981    & 0.02403339  & 3          \\\\\n",
       "\t (39,49{]}   & 1           & 1           & 1           & 1           & 4           & 1.025772    & 0.02631591  & 4          \\\\\n",
       "\t (49,59{]}   & 1           & 1           & 1           & 1           & 3           & 1.041484    & 0.04205618  & 3          \\\\\n",
       "\t (59, Inf{]} & 1           & 1           & 1           & 1           & 4           & 1.067452    & 0.06851748  & 4          \\\\\n",
       "\\end{tabular}\n"
      ],
      "text/markdown": [
       "\n",
       "| agecat | Clicks.FUN1 | Clicks.FUN2 | Clicks.FUN3 | Clicks.FUN4 | Clicks.FUN5 | Clicks.FUN6 | Clicks.FUN7 | Clicks.FUN8 |\n",
       "|---|---|---|---|---|---|---|---|---|\n",
       "| (0,30]     | 1          | 1          | 1          | 1          | 4          | 1.044440   | 0.04601460 | 4          |\n",
       "| (30,39]    | 1          | 1          | 1          | 1          | 3          | 1.023981   | 0.02403339 | 3          |\n",
       "| (39,49]    | 1          | 1          | 1          | 1          | 4          | 1.025772   | 0.02631591 | 4          |\n",
       "| (49,59]    | 1          | 1          | 1          | 1          | 3          | 1.041484   | 0.04205618 | 3          |\n",
       "| (59, Inf]  | 1          | 1          | 1          | 1          | 4          | 1.067452   | 0.06851748 | 4          |\n",
       "\n"
      ],
      "text/plain": [
       "  agecat    Clicks.FUN1 Clicks.FUN2 Clicks.FUN3 Clicks.FUN4 Clicks.FUN5\n",
       "1 (0,30]    1           1           1           1           4          \n",
       "2 (30,39]   1           1           1           1           3          \n",
       "3 (39,49]   1           1           1           1           4          \n",
       "4 (49,59]   1           1           1           1           3          \n",
       "5 (59, Inf] 1           1           1           1           4          \n",
       "  Clicks.FUN6 Clicks.FUN7 Clicks.FUN8\n",
       "1 1.044440    0.04601460  4          \n",
       "2 1.023981    0.02403339  3          \n",
       "3 1.025772    0.02631591  4          \n",
       "4 1.041484    0.04205618  3          \n",
       "5 1.067452    0.06851748  4          "
      ]
     },
     "metadata": {},
     "output_type": "display_data"
    }
   ],
   "source": [
    "#Summary of CLicks of the whole data\n",
    "summaryBy(Clicks~agecat,data= tendaysdata, FUN = datasummary)\n"
   ]
  },
  {
   "cell_type": "code",
   "execution_count": 24,
   "metadata": {},
   "outputs": [
    {
     "data": {
      "text/html": [
       "<table>\n",
       "<thead><tr><th scope=col>agecat</th><th scope=col>Impressions.FUN1</th><th scope=col>Impressions.FUN2</th><th scope=col>Impressions.FUN3</th><th scope=col>Impressions.FUN4</th><th scope=col>Impressions.FUN5</th><th scope=col>Impressions.FUN6</th><th scope=col>Impressions.FUN7</th><th scope=col>Impressions.FUN8</th></tr></thead>\n",
       "<tbody>\n",
       "\t<tr><td>(0,30]   </td><td>1        </td><td>4        </td><td>6        </td><td>7        </td><td>17       </td><td>5.952439 </td><td>4.964733 </td><td>17       </td></tr>\n",
       "\t<tr><td>(30,39]  </td><td>1        </td><td>4        </td><td>6        </td><td>7        </td><td>17       </td><td>5.989665 </td><td>4.993674 </td><td>17       </td></tr>\n",
       "\t<tr><td>(39,49]  </td><td>1        </td><td>4        </td><td>6        </td><td>7        </td><td>19       </td><td>5.970002 </td><td>4.951177 </td><td>19       </td></tr>\n",
       "\t<tr><td>(49,59]  </td><td>1        </td><td>4        </td><td>6        </td><td>7        </td><td>18       </td><td>5.945272 </td><td>4.920201 </td><td>18       </td></tr>\n",
       "\t<tr><td>(59, Inf]</td><td>1        </td><td>4        </td><td>6        </td><td>7        </td><td>18       </td><td>5.915948 </td><td>4.924836 </td><td>18       </td></tr>\n",
       "</tbody>\n",
       "</table>\n"
      ],
      "text/latex": [
       "\\begin{tabular}{r|lllllllll}\n",
       " agecat & Impressions.FUN1 & Impressions.FUN2 & Impressions.FUN3 & Impressions.FUN4 & Impressions.FUN5 & Impressions.FUN6 & Impressions.FUN7 & Impressions.FUN8\\\\\n",
       "\\hline\n",
       "\t (0,30{]}    & 1           & 4           & 6           & 7           & 17          & 5.952439    & 4.964733    & 17         \\\\\n",
       "\t (30,39{]}   & 1           & 4           & 6           & 7           & 17          & 5.989665    & 4.993674    & 17         \\\\\n",
       "\t (39,49{]}   & 1           & 4           & 6           & 7           & 19          & 5.970002    & 4.951177    & 19         \\\\\n",
       "\t (49,59{]}   & 1           & 4           & 6           & 7           & 18          & 5.945272    & 4.920201    & 18         \\\\\n",
       "\t (59, Inf{]} & 1           & 4           & 6           & 7           & 18          & 5.915948    & 4.924836    & 18         \\\\\n",
       "\\end{tabular}\n"
      ],
      "text/markdown": [
       "\n",
       "| agecat | Impressions.FUN1 | Impressions.FUN2 | Impressions.FUN3 | Impressions.FUN4 | Impressions.FUN5 | Impressions.FUN6 | Impressions.FUN7 | Impressions.FUN8 |\n",
       "|---|---|---|---|---|---|---|---|---|\n",
       "| (0,30]    | 1         | 4         | 6         | 7         | 17        | 5.952439  | 4.964733  | 17        |\n",
       "| (30,39]   | 1         | 4         | 6         | 7         | 17        | 5.989665  | 4.993674  | 17        |\n",
       "| (39,49]   | 1         | 4         | 6         | 7         | 19        | 5.970002  | 4.951177  | 19        |\n",
       "| (49,59]   | 1         | 4         | 6         | 7         | 18        | 5.945272  | 4.920201  | 18        |\n",
       "| (59, Inf] | 1         | 4         | 6         | 7         | 18        | 5.915948  | 4.924836  | 18        |\n",
       "\n"
      ],
      "text/plain": [
       "  agecat    Impressions.FUN1 Impressions.FUN2 Impressions.FUN3 Impressions.FUN4\n",
       "1 (0,30]    1                4                6                7               \n",
       "2 (30,39]   1                4                6                7               \n",
       "3 (39,49]   1                4                6                7               \n",
       "4 (49,59]   1                4                6                7               \n",
       "5 (59, Inf] 1                4                6                7               \n",
       "  Impressions.FUN5 Impressions.FUN6 Impressions.FUN7 Impressions.FUN8\n",
       "1 17               5.952439         4.964733         17              \n",
       "2 17               5.989665         4.993674         17              \n",
       "3 19               5.970002         4.951177         19              \n",
       "4 18               5.945272         4.920201         18              \n",
       "5 18               5.915948         4.924836         18              "
      ]
     },
     "metadata": {},
     "output_type": "display_data"
    }
   ],
   "source": [
    "#Summary of Impressions of the whole data\n",
    "summaryBy(Impressions~agecat,data= tendaysdata, FUN = datasummary)\n"
   ]
  },
  {
   "cell_type": "code",
   "execution_count": null,
   "metadata": {},
   "outputs": [],
   "source": []
  }
 ],
 "metadata": {
  "kernelspec": {
   "display_name": "R",
   "language": "R",
   "name": "ir"
  },
  "language_info": {
   "codemirror_mode": "r",
   "file_extension": ".r",
   "mimetype": "text/x-r-source",
   "name": "R",
   "pygments_lexer": "r",
   "version": "3.6.1"
  }
 },
 "nbformat": 4,
 "nbformat_minor": 4
}
